{
 "cells": [
  {
   "cell_type": "code",
   "execution_count": 10,
   "metadata": {
    "collapsed": false
   },
   "outputs": [],
   "source": [
    "import scipy.io\n",
    "import numpy as np\n",
    "import os\n",
    "\n",
    "#Create timelapse mat file for unwarping\n",
    "file_list='/imagenetdb/tgebru/scrape/lat_lng_rot_url.txt'       \n",
    "flist=open(file_list).readlines()\n",
    "num_ims=len(flist)\n",
    "dt=np.dtype([('warped','int16'),('im_fname','S100'),('image_year','int16')])\n",
    "images=np.zeros((num_ims,), dtype=dt)\n",
    "save_dir='/scail/scratch/u/tgebru/timelapse_unwarp/unwarp_cluster/city_files/'\n",
    "city_name='new_york'\n",
    "save_path=os.path.join(save_dir,'%s.mat'%city_name)\n",
    "\n",
    "for i in xrange(0,num_ims):\n",
    "    parts=flist[i].split('\\t')\n",
    "    fname=parts[-1].strip()#.replace('gsv_time_fixed','gsv_time')\n",
    "    lat=parts[0].split('_')[0].strip()\n",
    "    lng=parts[0].split('_')[1].strip()\n",
    "    year=fname.split('_')[-1][:-4].split('-')[-1]\n",
    "    images[i]['warped']=1\n",
    "    images[i]['im_fname']=fname\n",
    "    images[i]['image_year']=year\n",
    "    \n",
    "scipy.io.savemat(save_path,{'images':images})"
   ]
  },
  {
   "cell_type": "code",
   "execution_count": 9,
   "metadata": {
    "collapsed": false
   },
   "outputs": [
    {
     "data": {
      "text/plain": [
       "1407720"
      ]
     },
     "execution_count": 9,
     "metadata": {},
     "output_type": "execute_result"
    }
   ],
   "source": []
  },
  {
   "cell_type": "code",
   "execution_count": null,
   "metadata": {
    "collapsed": true
   },
   "outputs": [],
   "source": []
  }
 ],
 "metadata": {
  "kernelspec": {
   "display_name": "Python 2",
   "language": "python",
   "name": "python2"
  },
  "language_info": {
   "codemirror_mode": {
    "name": "ipython",
    "version": 2
   },
   "file_extension": ".py",
   "mimetype": "text/x-python",
   "name": "python",
   "nbconvert_exporter": "python",
   "pygments_lexer": "ipython2",
   "version": "2.7.3"
  }
 },
 "nbformat": 4,
 "nbformat_minor": 0
}
