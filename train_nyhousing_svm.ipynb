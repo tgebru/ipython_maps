{
 "cells": [
  {
   "cell_type": "code",
   "execution_count": null,
   "metadata": {
    "collapsed": false
   },
   "outputs": [],
   "source": [
    "def prepare_features(lines,features):\n",
    "    labels=[]\n",
    "    for l in lines:\n",
    "      fname=l.split(' ')[0]\n",
    "      labels.append(int(l.split(' ')[1].strip()))\n",
    "\n",
    "    feat_list=[f.tolist() for f in features[0:len(labels)]]\n",
    "    return labels,feat_list"
   ]
  },
  {
   "cell_type": "code",
   "execution_count": null,
   "metadata": {
    "collapsed": true
   },
   "outputs": [],
   "source": [
    "def scale_feats(features, feat_min,feat_max):\n",
    "    #Scale features to be between 0-1\n",
    "    feat_mat=np.array(features)\n",
    "    delta=feat_max-feat_min\n",
    "    feat_scaled=(feat_mat-feat_min)/feat_max \n",
    "    feat_scaled[np.isnan(feat_scaled)]=0\n",
    "   \n",
    "    return feat_scaled"
   ]
  },
  {
   "cell_type": "code",
   "execution_count": 148,
   "metadata": {
    "collapsed": false
   },
   "outputs": [
    {
     "name": "stdout",
     "output_type": "stream",
     "text": [
      "loading train features...\n",
      "loading val features...\n",
      "Scaling features..."
     ]
    },
    {
     "name": "stderr",
     "output_type": "stream",
     "text": [
      "/imagenetdb3/tgebru/software/venv/lib/python2.7/site-packages/ipykernel/__main__.py:5: RuntimeWarning: invalid value encountered in divide\n",
      "/imagenetdb3/tgebru/software/venv/lib/python2.7/site-packages/ipykernel/__main__.py:5: RuntimeWarning: divide by zero encountered in divide\n"
     ]
    },
    {
     "name": "stdout",
     "output_type": "stream",
     "text": [
      "\n",
      "Preparing features and labels for training...\n"
     ]
    }
   ],
   "source": [
    "#Train an SVM using features from CNN\n",
    "import sys\n",
    "import os\n",
    "import pickle\n",
    "sys.path.insert(1, '/afs/cs.stanford.edu/u/tgebru/software/liblinear-2.1/python')\n",
    "from liblinearutil import *\n",
    "import numpy as np\n",
    "import copy\n",
    "\n",
    "FEAT='fc7'\n",
    "\n",
    "data_root='/imagenetdb3/tgebru/cvpr2016/housing_data/ny_housing'\n",
    "train_files=os.path.join(data_root,'housing_2013_class_train.txt')\n",
    "train_lines=open(train_files,'rb').readlines()\n",
    "\n",
    "val_files=os.path.join(data_root,'housing_2013_class_val.txt')\n",
    "val_lines=open(val_files,'rb').readlines()\n",
    "\n",
    "train_feat_pname='/imagenetdb3/tgebru/cvpr2016/housing_train_2013_class_%s'%FEAT\n",
    "val_feat_pname='/imagenetdb3/tgebru/cvpr2016/housing_val_2013_class_%s'%FEAT\n",
    "\n",
    "print 'loading train features...'\n",
    "with open(train_feat_pname,'rb') as f:\n",
    "  train_feats = pickle.load(f)\n",
    "\n",
    "print 'loading val features...'\n",
    "with open(val_feat_pname,'rb') as f:\n",
    "  val_feats = pickle.load(f)\n",
    "\n",
    "#Scale features\n",
    "print 'Scaling features...'\n",
    "train_feat_mat=np.array(train_feats)\n",
    "train_feat_max=train_feat_mat.max(0)\n",
    "train_feat_min=train_feat_mat.min(0)\n",
    "train_feats_scaled=scale_feats(train_feats,train_feat_min,train_feat_max) \n",
    "val_feats_scaled=scale_feats(val_feats,train_feat_min,train_feat_max)\n",
    "\n",
    "#Prepare labels and features\n",
    "print 'Preparing features and labels for training...'\n",
    "train_labels,train_feat_list=prepare_features(train_lines,train_feats_scaled)\n",
    "val_labels,val_feat_list=prepare_features(val_lines,val_feats_scaled)"
   ]
  },
  {
   "cell_type": "code",
   "execution_count": 156,
   "metadata": {
    "collapsed": false
   },
   "outputs": [
    {
     "name": "stdout",
     "output_type": "stream",
     "text": [
      "training model with grid search for parameters...\n"
     ]
    },
    {
     "ename": "KeyboardInterrupt",
     "evalue": "",
     "output_type": "error",
     "traceback": [
      "\u001b[1;31m---------------------------------------------------------------------------\u001b[0m",
      "\u001b[1;31mKeyboardInterrupt\u001b[0m                         Traceback (most recent call last)",
      "\u001b[1;32m<ipython-input-156-f64881014303>\u001b[0m in \u001b[0;36m<module>\u001b[1;34m()\u001b[0m\n\u001b[0;32m      2\u001b[0m \u001b[1;33m\u001b[0m\u001b[0m\n\u001b[0;32m      3\u001b[0m m = train(train_labels + val_labels, \n\u001b[1;32m----> 4\u001b[1;33m           train_feat_list + val_feat_list, '-C -B 10')\n\u001b[0m\u001b[0;32m      5\u001b[0m \u001b[1;32mprint\u001b[0m \u001b[1;34m'evaluating model...'\u001b[0m\u001b[1;33m\u001b[0m\u001b[0m\n\u001b[0;32m      6\u001b[0m \u001b[1;31m#p_label, p_acc, p_val = predict(labels,feat_list, m)\u001b[0m\u001b[1;33m\u001b[0m\u001b[1;33m\u001b[0m\u001b[0m\n",
      "\u001b[1;32m/afs/cs.stanford.edu/u/tgebru/software/liblinear-2.1/python/liblinearutil.py\u001b[0m in \u001b[0;36mtrain\u001b[1;34m(arg1, arg2, arg3)\u001b[0m\n\u001b[0;32m    134\u001b[0m                 \u001b[1;32massert\u001b[0m \u001b[0misinstance\u001b[0m\u001b[1;33m(\u001b[0m\u001b[0marg2\u001b[0m\u001b[1;33m,\u001b[0m \u001b[1;33m(\u001b[0m\u001b[0mlist\u001b[0m\u001b[1;33m,\u001b[0m \u001b[0mtuple\u001b[0m\u001b[1;33m)\u001b[0m\u001b[1;33m)\u001b[0m\u001b[1;33m\u001b[0m\u001b[0m\n\u001b[0;32m    135\u001b[0m                 \u001b[0my\u001b[0m\u001b[1;33m,\u001b[0m \u001b[0mx\u001b[0m\u001b[1;33m,\u001b[0m \u001b[0moptions\u001b[0m \u001b[1;33m=\u001b[0m \u001b[0marg1\u001b[0m\u001b[1;33m,\u001b[0m \u001b[0marg2\u001b[0m\u001b[1;33m,\u001b[0m \u001b[0marg3\u001b[0m\u001b[1;33m\u001b[0m\u001b[0m\n\u001b[1;32m--> 136\u001b[1;33m                 \u001b[0mprob\u001b[0m \u001b[1;33m=\u001b[0m \u001b[0mproblem\u001b[0m\u001b[1;33m(\u001b[0m\u001b[0my\u001b[0m\u001b[1;33m,\u001b[0m \u001b[0mx\u001b[0m\u001b[1;33m)\u001b[0m\u001b[1;33m\u001b[0m\u001b[0m\n\u001b[0m\u001b[0;32m    137\u001b[0m                 \u001b[0mparam\u001b[0m \u001b[1;33m=\u001b[0m \u001b[0mparameter\u001b[0m\u001b[1;33m(\u001b[0m\u001b[0moptions\u001b[0m\u001b[1;33m)\u001b[0m\u001b[1;33m\u001b[0m\u001b[0m\n\u001b[0;32m    138\u001b[0m         \u001b[1;32melif\u001b[0m \u001b[0misinstance\u001b[0m\u001b[1;33m(\u001b[0m\u001b[0marg1\u001b[0m\u001b[1;33m,\u001b[0m \u001b[0mproblem\u001b[0m\u001b[1;33m)\u001b[0m\u001b[1;33m:\u001b[0m\u001b[1;33m\u001b[0m\u001b[0m\n",
      "\u001b[1;32m/afs/cs.stanford.edu/u/tgebru/software/liblinear-2.1/python/liblinear.py\u001b[0m in \u001b[0;36m__init__\u001b[1;34m(self, y, x, bias)\u001b[0m\n\u001b[0;32m     99\u001b[0m                 \u001b[0mx_space\u001b[0m \u001b[1;33m=\u001b[0m \u001b[0mself\u001b[0m\u001b[1;33m.\u001b[0m\u001b[0mx_space\u001b[0m \u001b[1;33m=\u001b[0m \u001b[1;33m[\u001b[0m\u001b[1;33m]\u001b[0m\u001b[1;33m\u001b[0m\u001b[0m\n\u001b[0;32m    100\u001b[0m                 \u001b[1;32mfor\u001b[0m \u001b[0mi\u001b[0m\u001b[1;33m,\u001b[0m \u001b[0mxi\u001b[0m \u001b[1;32min\u001b[0m \u001b[0menumerate\u001b[0m\u001b[1;33m(\u001b[0m\u001b[0mx\u001b[0m\u001b[1;33m)\u001b[0m\u001b[1;33m:\u001b[0m\u001b[1;33m\u001b[0m\u001b[0m\n\u001b[1;32m--> 101\u001b[1;33m                         \u001b[0mtmp_xi\u001b[0m\u001b[1;33m,\u001b[0m \u001b[0mtmp_idx\u001b[0m \u001b[1;33m=\u001b[0m \u001b[0mgen_feature_nodearray\u001b[0m\u001b[1;33m(\u001b[0m\u001b[0mxi\u001b[0m\u001b[1;33m)\u001b[0m\u001b[1;33m\u001b[0m\u001b[0m\n\u001b[0m\u001b[0;32m    102\u001b[0m                         \u001b[0mx_space\u001b[0m \u001b[1;33m+=\u001b[0m \u001b[1;33m[\u001b[0m\u001b[0mtmp_xi\u001b[0m\u001b[1;33m]\u001b[0m\u001b[1;33m\u001b[0m\u001b[0m\n\u001b[0;32m    103\u001b[0m                         \u001b[0mmax_idx\u001b[0m \u001b[1;33m=\u001b[0m \u001b[0mmax\u001b[0m\u001b[1;33m(\u001b[0m\u001b[0mmax_idx\u001b[0m\u001b[1;33m,\u001b[0m \u001b[0mtmp_idx\u001b[0m\u001b[1;33m)\u001b[0m\u001b[1;33m\u001b[0m\u001b[0m\n",
      "\u001b[1;32m/afs/cs.stanford.edu/u/tgebru/software/liblinear-2.1/python/liblinear.py\u001b[0m in \u001b[0;36mgen_feature_nodearray\u001b[1;34m(xi, feature_max, issparse)\u001b[0m\n\u001b[0;32m     71\u001b[0m                 \u001b[0mindex_range\u001b[0m \u001b[1;33m=\u001b[0m \u001b[0mfilter\u001b[0m\u001b[1;33m(\u001b[0m\u001b[1;32mlambda\u001b[0m \u001b[0mj\u001b[0m\u001b[1;33m:\u001b[0m \u001b[0mj\u001b[0m \u001b[1;33m<=\u001b[0m \u001b[0mfeature_max\u001b[0m\u001b[1;33m,\u001b[0m \u001b[0mindex_range\u001b[0m\u001b[1;33m)\u001b[0m\u001b[1;33m\u001b[0m\u001b[0m\n\u001b[0;32m     72\u001b[0m         \u001b[1;32mif\u001b[0m \u001b[0missparse\u001b[0m\u001b[1;33m:\u001b[0m\u001b[1;33m\u001b[0m\u001b[0m\n\u001b[1;32m---> 73\u001b[1;33m                 \u001b[0mindex_range\u001b[0m \u001b[1;33m=\u001b[0m \u001b[0mfilter\u001b[0m\u001b[1;33m(\u001b[0m\u001b[1;32mlambda\u001b[0m \u001b[0mj\u001b[0m\u001b[1;33m:\u001b[0m\u001b[0mxi\u001b[0m\u001b[1;33m[\u001b[0m\u001b[0mj\u001b[0m\u001b[1;33m]\u001b[0m \u001b[1;33m!=\u001b[0m \u001b[1;36m0\u001b[0m\u001b[1;33m,\u001b[0m \u001b[0mindex_range\u001b[0m\u001b[1;33m)\u001b[0m\u001b[1;33m\u001b[0m\u001b[0m\n\u001b[0m\u001b[0;32m     74\u001b[0m \u001b[1;33m\u001b[0m\u001b[0m\n\u001b[0;32m     75\u001b[0m         \u001b[0mindex_range\u001b[0m \u001b[1;33m=\u001b[0m \u001b[0msorted\u001b[0m\u001b[1;33m(\u001b[0m\u001b[0mindex_range\u001b[0m\u001b[1;33m)\u001b[0m\u001b[1;33m\u001b[0m\u001b[0m\n",
      "\u001b[1;32m/afs/cs.stanford.edu/u/tgebru/software/liblinear-2.1/python/liblinear.py\u001b[0m in \u001b[0;36m<lambda>\u001b[1;34m(j)\u001b[0m\n\u001b[0;32m     71\u001b[0m                 \u001b[0mindex_range\u001b[0m \u001b[1;33m=\u001b[0m \u001b[0mfilter\u001b[0m\u001b[1;33m(\u001b[0m\u001b[1;32mlambda\u001b[0m \u001b[0mj\u001b[0m\u001b[1;33m:\u001b[0m \u001b[0mj\u001b[0m \u001b[1;33m<=\u001b[0m \u001b[0mfeature_max\u001b[0m\u001b[1;33m,\u001b[0m \u001b[0mindex_range\u001b[0m\u001b[1;33m)\u001b[0m\u001b[1;33m\u001b[0m\u001b[0m\n\u001b[0;32m     72\u001b[0m         \u001b[1;32mif\u001b[0m \u001b[0missparse\u001b[0m\u001b[1;33m:\u001b[0m\u001b[1;33m\u001b[0m\u001b[0m\n\u001b[1;32m---> 73\u001b[1;33m                 \u001b[0mindex_range\u001b[0m \u001b[1;33m=\u001b[0m \u001b[0mfilter\u001b[0m\u001b[1;33m(\u001b[0m\u001b[1;32mlambda\u001b[0m \u001b[0mj\u001b[0m\u001b[1;33m:\u001b[0m\u001b[0mxi\u001b[0m\u001b[1;33m[\u001b[0m\u001b[0mj\u001b[0m\u001b[1;33m]\u001b[0m \u001b[1;33m!=\u001b[0m \u001b[1;36m0\u001b[0m\u001b[1;33m,\u001b[0m \u001b[0mindex_range\u001b[0m\u001b[1;33m)\u001b[0m\u001b[1;33m\u001b[0m\u001b[0m\n\u001b[0m\u001b[0;32m     74\u001b[0m \u001b[1;33m\u001b[0m\u001b[0m\n\u001b[0;32m     75\u001b[0m         \u001b[0mindex_range\u001b[0m \u001b[1;33m=\u001b[0m \u001b[0msorted\u001b[0m\u001b[1;33m(\u001b[0m\u001b[0mindex_range\u001b[0m\u001b[1;33m)\u001b[0m\u001b[1;33m\u001b[0m\u001b[0m\n",
      "\u001b[1;31mKeyboardInterrupt\u001b[0m: "
     ]
    }
   ],
   "source": [
    "print 'training model with grid search for parameters...'\n",
    "\n",
    "m = train(train_labels + val_labels, \n",
    "          train_feat_list + val_feat_list, '-C -B 10')\n",
    "print 'evaluating model...'\n",
    "#p_label, p_acc, p_val = predict(labels,feat_list, m)\n",
    "#print p_label, p_acc, p_val\n",
    "#save_model('/imagenetdb3/tgebru/cvpr2016/housing_val_2013_class_%s.model'%FEAT,m)"
   ]
  },
  {
   "cell_type": "code",
   "execution_count": 155,
   "metadata": {
    "collapsed": false
   },
   "outputs": [
    {
     "data": {
      "text/plain": [
       "(0.0, 0.25193905817174517)"
      ]
     },
     "execution_count": 155,
     "metadata": {},
     "output_type": "execute_result"
    }
   ],
   "source": []
  },
  {
   "cell_type": "code",
   "execution_count": null,
   "metadata": {
    "collapsed": true
   },
   "outputs": [],
   "source": []
  }
 ],
 "metadata": {
  "kernelspec": {
   "display_name": "Python 2",
   "language": "python",
   "name": "python2"
  },
  "language_info": {
   "codemirror_mode": {
    "name": "ipython",
    "version": 2
   },
   "file_extension": ".py",
   "mimetype": "text/x-python",
   "name": "python",
   "nbconvert_exporter": "python",
   "pygments_lexer": "ipython2",
   "version": "2.7.3"
  }
 },
 "nbformat": 4,
 "nbformat_minor": 0
}
